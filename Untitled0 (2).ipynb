{
  "cells": [
    {
      "cell_type": "code",
      "execution_count": null,
      "metadata": {
        "colab": {
          "base_uri": "https://localhost:8080/"
        },
        "id": "SaQpwIvRFNP9",
        "outputId": "a38959b4-b4fb-42a2-f2b4-adc4ce423358"
      },
      "outputs": [
        {
          "name": "stdout",
          "output_type": "stream",
          "text": [
            "Enter a number: 5\n",
            "25\n"
          ]
        }
      ],
      "source": [
        "x = int(input(\"Enter a number: \"))\n",
        "print(x**2)\n"
      ]
    },
    {
      "cell_type": "code",
      "execution_count": null,
      "metadata": {
        "colab": {
          "base_uri": "https://localhost:8080/"
        },
        "id": "3fsSYoopGpdx",
        "outputId": "3ed8d276-d67d-4b4e-be14-905d9300d0f5"
      },
      "outputs": [
        {
          "name": "stdout",
          "output_type": "stream",
          "text": [
            "Enter a number1: 7\n",
            "Enter a number2: 5\n",
            "Enter a sign (+, -, *, /, **, <, >): <\n",
            "7.0\n"
          ]
        }
      ],
      "source": [
        "x = float(input(\"Enter a number1: \"))\n",
        "y = float(input(\"Enter a number2: \"))\n",
        "z = input(\"Enter a sign (+, -, *, /, **, <, >): \")\n",
        "if z==\"+\":\n",
        "  print(x+y)\n",
        "elif z==\"-\":\n",
        "  print(x-y)\n",
        "elif z==\"*\":\n",
        "  print(x*y)\n",
        "elif z==\"/\" and y!=0:\n",
        "  print(x/y)\n",
        "elif z==\"**\":\n",
        "  print(x**y)\n",
        "elif z==\">\" and x>y:\n",
        "  print(x)\n",
        "elif z==\"<\" and x<y:\n",
        "  print(y)\n",
        "elif z==\">\" and y>x:\n",
        "  print(y)\n",
        "elif z==\"<\" and y<x:\n",
        "  print(x)\n",
        "else:\n",
        "  print(\"error\")"
      ]
    },
    {
      "cell_type": "code",
      "execution_count": null,
      "metadata": {
        "colab": {
          "background_save": true
        },
        "id": "6L7RU6GhLueJ",
        "outputId": "163c3c65-7d7c-4940-cb31-6cbf3f3711ac"
      },
      "outputs": [
        {
          "name": "stdout",
          "output_type": "stream",
          "text": [
            " \n"
          ]
        }
      ],
      "source": [
        "text = \"I am Sofia\"\n",
        "print(text[4])"
      ]
    }
  ],
  "metadata": {
    "colab": {
      "provenance": []
    },
    "kernelspec": {
      "display_name": "Python 3",
      "name": "python3"
    },
    "language_info": {
      "name": "python"
    }
  },
  "nbformat": 4,
  "nbformat_minor": 0
}